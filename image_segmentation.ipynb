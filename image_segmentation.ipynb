{
  "cells": [
    {
      "cell_type": "markdown",
      "metadata": {
        "id": "view-in-github",
        "colab_type": "text"
      },
      "source": [
        "<a href=\"https://colab.research.google.com/github/emmarant/biscotto/blob/main/image_segmentation.ipynb\" target=\"_parent\"><img src=\"https://colab.research.google.com/assets/colab-badge.svg\" alt=\"Open In Colab\"/></a>"
      ]
    },
    {
      "cell_type": "markdown",
      "id": "5bca36ec",
      "metadata": {
        "id": "5bca36ec"
      },
      "source": [
        "# Testing Neural Network-based image segmentation models on your data\n",
        "---\n",
        "This notebook gives you access to several pre-installed segmentation models that can be easily run and compared on your image data-set. Please follow the instructions below to upload your data and test the models.\n",
        "\n",
        "The notebook is licensed under CC BY-NC 4.0\n",
        "Copyright (C) 2024 Franziska Oschmann, Scientific IT Services of ETH Zurich.\n",
        "\n",
        "Contributing Authors:  Franziska Oschmann  together with  Andrzej Rzepiela (ScopeM ETH) and Szymon Stoma (ScopeM ETH)."
      ]
    },
    {
      "cell_type": "markdown",
      "id": "y8vz2f4l-s4S",
      "metadata": {
        "id": "y8vz2f4l-s4S"
      },
      "source": [
        "# 1. Install dependencies\n",
        "- The notebook runs on the **L4 accelator**. Select it in 'Runtime' by clicking 'Change runtime type'\n",
        "- To run a code `cell` (separate piece of code), click on it and press the `play` button on the top left of it.\n",
        "- It will take about 1 min to install dependencies in the cell below\n",
        "- Ignore the restart warning message\n",
        "\n"
      ]
    },
    {
      "cell_type": "code",
      "execution_count": null,
      "id": "cYGY6lA4-jsP",
      "metadata": {
        "id": "cYGY6lA4-jsP"
      },
      "outputs": [],
      "source": [
        "%%capture\n",
        "!pip install --no-deps git+https://github.com/ajrzepiela/midap.git@dev\n",
        "!pip install --no-deps git+https://www.github.com/mouseland/cellpose.git\n",
        "!pip install -q --no-deps numpy==1.26.4 \"scipy>=1.11.4,<1.12\" scikit-image>=0.22 \\\n",
        "  opencv-python>=4.8.1 pandas>=2.0.2 stardist>=0.9.1 omnipose>=1.0.6 tqdm gitpython coverage mpl_interactions \\\n",
        "  ipympl csbdeep fastremap edt igraph texttable mgen pbr ncolor mahotas torchvf peakdetect fill_voids roifile segment_anything\n",
        "try:\n",
        "  from gem.utils import graph_util, plot_util\n",
        "except (ImportError, KeyError, ModuleNotFoundError):\n",
        "  exit()"
      ]
    },
    {
      "cell_type": "markdown",
      "id": "PjkjQ9ae0UzL",
      "metadata": {
        "id": "PjkjQ9ae0UzL"
      },
      "source": [
        "If you want to use the notebook more often, follow the instructions [here](https://medium.com/@ismailelalaoui/how-to-install-external-libraries-permanently-on-google-colab-eaa4509fb43f) to install dependencies permanently on your google drive"
      ]
    },
    {
      "cell_type": "markdown",
      "id": "rW6cY-wxAKS5",
      "metadata": {
        "id": "rW6cY-wxAKS5"
      },
      "source": [
        "Now, **download the custom segmentation models**. Standard models are loaded from libraries."
      ]
    },
    {
      "cell_type": "code",
      "execution_count": null,
      "id": "1e1be258",
      "metadata": {
        "id": "1e1be258"
      },
      "outputs": [],
      "source": [
        "!midap_download --force"
      ]
    },
    {
      "cell_type": "markdown",
      "id": "c03adf01",
      "metadata": {
        "id": "c03adf01"
      },
      "source": [
        "## 2. Upload of images"
      ]
    },
    {
      "cell_type": "markdown",
      "id": "562be19e",
      "metadata": {
        "id": "562be19e"
      },
      "source": [
        "\n",
        "\n",
        "- Run the `cell` below and later select the `data/raw_im/` data folder (don't miss the 'select' button that appears below the cell), and then run the second cell to select the files you want to analyse.\n",
        "\n",
        "- This will take about 30 sec\n",
        "\n",
        "- In `/content/data/raw_im/` there are several example images that can be used to test the notebook. If you want other images, upload them to the folder `/content/data/raw_im/`. To do this, in the panel on the left click on the folder icon and then drag and drop your image files into directory `/content/data/raw_im/`.\n",
        "\n",
        "- Uploaded images should have the same size (the example set is 256x256, you can also remove it)\n"
      ]
    },
    {
      "cell_type": "code",
      "execution_count": null,
      "id": "eee83467",
      "metadata": {
        "id": "eee83467"
      },
      "outputs": [],
      "source": [
        "import os; os.environ[\"MATPLOTLIB_BACKEND\"] = \"module://ipympl.backend_nbagg\"\n",
        "import matplotlib\n",
        "matplotlib.use('module://ipympl.backend_nbagg')\n",
        "import matplotlib.pyplot as plt\n",
        "\n",
        "from google.colab import output\n",
        "output.enable_custom_widget_manager()\n",
        "\n",
        "%matplotlib ipympl\n",
        "from midap.midap_jupyter.segmentation_jupyter import SegmentationJupyter\n",
        "\n",
        "path = '/content/data/'\n",
        "sj = SegmentationJupyter(path = path)\n",
        "\n",
        "sj.get_input_dir()\n",
        "display(sj.fc_file)"
      ]
    },
    {
      "cell_type": "markdown",
      "id": "adb702be",
      "metadata": {
        "id": "adb702be"
      },
      "source": [
        "Please make sure that the folder has been selected. Then run the next cell to select the files (mark them with the mouse)."
      ]
    },
    {
      "cell_type": "code",
      "execution_count": null,
      "id": "fb6665b7",
      "metadata": {
        "id": "fb6665b7"
      },
      "outputs": [],
      "source": [
        "sj.get_input_files(sj.fc_file.selected)"
      ]
    },
    {
      "cell_type": "markdown",
      "id": "4a05db9d",
      "metadata": {
        "id": "4a05db9d"
      },
      "source": [
        "## 3. Choose image axes"
      ]
    },
    {
      "cell_type": "markdown",
      "id": "ec9d8658",
      "metadata": {
        "id": "ec9d8658"
      },
      "source": [
        "This is where we define the labels for the image axes. We need to specify which axes contain the number of images and the number of channels in the uploaded image stack. Based on this information, the image stack will be transformed into the following shape (num_images, width, height, num_channels). Please run the two cells below and select the correct options."
      ]
    },
    {
      "cell_type": "code",
      "execution_count": null,
      "id": "4dd9f085",
      "metadata": {
        "id": "4dd9f085"
      },
      "outputs": [],
      "source": [
        "sj.load_input_image()"
      ]
    },
    {
      "cell_type": "code",
      "execution_count": null,
      "id": "4d8b2546",
      "metadata": {
        "id": "4d8b2546"
      },
      "outputs": [],
      "source": [
        "sj.spec_img_dims()\n",
        "sj.align_img_dims()"
      ]
    },
    {
      "cell_type": "markdown",
      "id": "4a4e395a",
      "metadata": {
        "id": "4a4e395a"
      },
      "source": [
        "## 2. Select channel"
      ]
    },
    {
      "cell_type": "markdown",
      "id": "2ec45004",
      "metadata": {
        "id": "2ec45004"
      },
      "source": [
        "Select the channel which will be used for the further analysis. If images in your set contain only one channel, keep the channel '0'. Please run both cells below."
      ]
    },
    {
      "cell_type": "code",
      "execution_count": null,
      "id": "5cda9445",
      "metadata": {
        "id": "5cda9445"
      },
      "outputs": [],
      "source": [
        "%matplotlib ipympl\n",
        "sj.select_channel()\n",
        "display(sj.output_sel_ch)"
      ]
    },
    {
      "cell_type": "code",
      "execution_count": null,
      "id": "9e10c78c",
      "metadata": {
        "id": "9e10c78c"
      },
      "outputs": [],
      "source": [
        "sj.set_channel()"
      ]
    },
    {
      "cell_type": "markdown",
      "id": "7634b263",
      "metadata": {
        "id": "7634b263"
      },
      "source": [
        "## 3. Define ROI"
      ]
    },
    {
      "cell_type": "markdown",
      "id": "dcb5da8b",
      "metadata": {
        "id": "dcb5da8b"
      },
      "source": [
        "Define the region of interest (the same for all the images) by zooming into the part of the image you want to segment (use the 'zoom to rectangle' tool from the tool icons at the left-hand side). Run all the cells below."
      ]
    },
    {
      "cell_type": "code",
      "execution_count": null,
      "id": "1150044e",
      "metadata": {
        "id": "1150044e"
      },
      "outputs": [],
      "source": [
        "%matplotlib ipympl\n",
        "sj.show_example_image(sj.imgs_sel_ch[0,:,:,0])"
      ]
    },
    {
      "cell_type": "code",
      "execution_count": null,
      "id": "3783aa87",
      "metadata": {
        "id": "3783aa87"
      },
      "outputs": [],
      "source": [
        "sj.get_corners_cutout()\n",
        "sj.make_cutouts()\n",
        "\n",
        "%matplotlib ipympl\n",
        "sj.show_all_cutouts()\n",
        "sj.output_all_cuts"
      ]
    },
    {
      "cell_type": "code",
      "execution_count": null,
      "id": "9c5fa4e9",
      "metadata": {
        "id": "9c5fa4e9"
      },
      "outputs": [],
      "source": [
        "sj.save_cutouts()"
      ]
    },
    {
      "cell_type": "markdown",
      "id": "a69077ac",
      "metadata": {
        "id": "a69077ac"
      },
      "source": [
        "## 4. Model selection"
      ]
    },
    {
      "cell_type": "markdown",
      "id": "060941cf",
      "metadata": {
        "id": "060941cf"
      },
      "source": [
        "You can choose between different models trained on different species, markers and neural network types. Select the models by running the cell below and clicking through the options (the selected models will appear in the list below the cell)."
      ]
    },
    {
      "cell_type": "code",
      "execution_count": null,
      "id": "cebde57e",
      "metadata": {
        "id": "cebde57e"
      },
      "outputs": [],
      "source": [
        "sj.get_segmentation_models()\n",
        "sj.display_segmentation_models()\n",
        "#sj.outp_interact_table"
      ]
    },
    {
      "cell_type": "markdown",
      "id": "2565a489",
      "metadata": {
        "id": "2565a489"
      },
      "source": [
        "- By running the following cell, segmentations with all selected models are generated and displayed for comparison.\n",
        "\n",
        "- This will take some time depending on how many models and images you have"
      ]
    },
    {
      "cell_type": "code",
      "execution_count": null,
      "id": "d551697d",
      "metadata": {
        "id": "d551697d"
      },
      "outputs": [],
      "source": [
        "# run all models\n",
        "sj.select_segmentation_models()\n",
        "sj.run_all_chosen_models()"
      ]
    },
    {
      "cell_type": "code",
      "execution_count": null,
      "id": "S9bkCK2ddqkq",
      "metadata": {
        "id": "S9bkCK2ddqkq"
      },
      "outputs": [],
      "source": [
        "sj.compare_segmentations()\n",
        "sj.output_seg_comp"
      ]
    },
    {
      "cell_type": "markdown",
      "id": "baa55a94",
      "metadata": {
        "id": "baa55a94"
      },
      "source": [
        "Choose the name of the model weights giving the best segmentation result:"
      ]
    },
    {
      "cell_type": "code",
      "execution_count": null,
      "id": "8i_jbvViLGg7",
      "metadata": {
        "id": "8i_jbvViLGg7"
      },
      "outputs": [],
      "source": [
        "sj.display_buttons_weights()\n",
        "display(sj.out_weights)"
      ]
    },
    {
      "cell_type": "markdown",
      "id": "7bf2bdbb",
      "metadata": {
        "id": "7bf2bdbb"
      },
      "source": [
        "## 5. Save segmentations"
      ]
    },
    {
      "cell_type": "markdown",
      "id": "80c665fd",
      "metadata": {
        "id": "80c665fd"
      },
      "source": [
        "Based on the chosen model and model weights, the whole image stack will be segmented. In case you would like to upload an additional file for the segmentation, please do that below."
      ]
    },
    {
      "cell_type": "code",
      "execution_count": null,
      "id": "9e881e4a",
      "metadata": {
        "id": "9e881e4a"
      },
      "outputs": [],
      "source": [
        "sj.load_add_files()\n",
        "sj.out_add_file"
      ]
    },
    {
      "cell_type": "code",
      "execution_count": null,
      "id": "ad05cdee",
      "metadata": {
        "id": "ad05cdee"
      },
      "outputs": [],
      "source": [
        "sj.process_images()"
      ]
    },
    {
      "cell_type": "markdown",
      "id": "ac81b7d6",
      "metadata": {
        "id": "ac81b7d6"
      },
      "source": [
        "You find the segmented images under `/content/data/seg_im/`."
      ]
    },
    {
      "cell_type": "markdown",
      "id": "JuyaeH5djvMY",
      "metadata": {
        "id": "JuyaeH5djvMY"
      },
      "source": [
        "## 6. Manou's Sandbox"
      ]
    },
    {
      "cell_type": "markdown",
      "id": "sXhVHo2ql7Ze",
      "metadata": {
        "id": "sXhVHo2ql7Ze"
      },
      "source": [
        "### I. interactive table for model selection"
      ]
    },
    {
      "cell_type": "code",
      "execution_count": null,
      "id": "Qp--qCPkraIS",
      "metadata": {
        "id": "Qp--qCPkraIS"
      },
      "outputs": [],
      "source": [
        "## import stuff\n",
        "## NOTE: check that those are not already imported; eventually place at top of notebook\n",
        "\n",
        "import pandas as pd\n",
        "import inspect\n",
        "from google.colab import data_table\n",
        "from IPython.display import display, clear_output\n",
        "from google.colab import data_table\n",
        "import ipywidgets as widgets\n",
        "from ipywidgets import Layout\n"
      ]
    },
    {
      "cell_type": "markdown",
      "source": [
        "#### exploratory"
      ],
      "metadata": {
        "id": "2FJss6XC8ZWm"
      },
      "id": "2FJss6XC8ZWm"
    },
    {
      "cell_type": "code",
      "source": [
        "## _____ Let's check what methods and functions SegmentationJupyter (instance 'sj' here) has ____\n",
        "\n",
        "\n",
        "meth_func = []\n",
        "data_attrs = []\n",
        "\n",
        "for name in dir(sj):\n",
        "    if name.startswith(\"__\") and name.endswith(\"__\"):\n",
        "        continue\n",
        "    attr = getattr(sj, name)\n",
        "    if inspect.ismethod(attr) or inspect.isfunction(attr):\n",
        "        meth_func.append(name)\n",
        "    else:\n",
        "        data_attrs.append(name)\n",
        "\n",
        "print(\"____Data attributes____\\n\")\n",
        "for name in sorted(data_attrs):\n",
        "    try:\n",
        "        val = getattr(sj, name)\n",
        "        print(f\"{name}: {type(val).__name__}\")\n",
        "    except Exception as e:\n",
        "        print(f\"{name}: <error reading: {e}>\")\n",
        "\n",
        "print(\"\\n ____Methods and functions____\\n\")\n",
        "for name in sorted(meth_func):\n",
        "    print(name)"
      ],
      "metadata": {
        "collapsed": true,
        "id": "6mHN8EdKI_3X"
      },
      "id": "6mHN8EdKI_3X",
      "execution_count": null,
      "outputs": []
    },
    {
      "cell_type": "code",
      "execution_count": null,
      "id": "lshcu6sMr7Pr",
      "metadata": {
        "id": "lshcu6sMr7Pr"
      },
      "outputs": [],
      "source": [
        "## Pull the registry from SegmentationJupyter (build sj.df_models)\n",
        "#_ = sj.get_segmentation_models()"
      ]
    },
    {
      "cell_type": "code",
      "execution_count": null,
      "id": "u1nEUSMQsizr",
      "metadata": {
        "id": "u1nEUSMQsizr"
      },
      "outputs": [],
      "source": [
        "## let's get the list of models\n",
        "sj.get_segmentation_models()\n",
        "df_model_interact = sj.df_models.copy()\n",
        "df_model_interact.index.name = \"model_name\"\n",
        "df_model_interact = df_model_interact.reset_index()\n",
        "\n",
        "## check what columns or descriptive fields already exist\n",
        "df_model_interact.columns.tolist()"
      ]
    },
    {
      "cell_type": "code",
      "execution_count": null,
      "id": "vz5mrM7tE-hL",
      "metadata": {
        "id": "vz5mrM7tE-hL",
        "collapsed": true
      },
      "outputs": [],
      "source": [
        "## take a look at the dataframe listing the available models with the already existing description fields\n",
        "df_model_interact"
      ]
    },
    {
      "cell_type": "markdown",
      "source": [
        "#### SOLUTION A. DataTable + ipywidget"
      ],
      "metadata": {
        "id": "_P5G6TCq8j93"
      },
      "id": "_P5G6TCq8j93"
    },
    {
      "cell_type": "markdown",
      "source": [
        "-- Create a dataframe by concatenating: a) the existing dataframe inherited from SegmentationJupyter (and which has some limited info on what each model is), b) a new dataframe, with infered - by the name of the models - info about each model or hardcoded info.\n",
        "\n",
        "-- Display this new and expanded model dataframe as a colab DataTable: it has the nice feature of being searchable and reusable (exportable etc.)\n",
        "\n",
        "-- Use widgets to create separate model list to select from (with filtering option) based on the contents of the table above, and then run the segmentation process with the click of a button.\n"
      ],
      "metadata": {
        "id": "s0fERWEifkAH"
      },
      "id": "s0fERWEifkAH"
    },
    {
      "cell_type": "code",
      "execution_count": null,
      "id": "bhbC81Attzpm",
      "metadata": {
        "id": "bhbC81Attzpm",
        "collapsed": true
      },
      "outputs": [],
      "source": [
        "## let's get the list of models\n",
        "_ = sj.get_segmentation_models()\n",
        "df_model_interact = sj.df_models.copy()\n",
        "df_model_interact.index.name = \"model_name\"\n",
        "df_model_interact = df_model_interact.reset_index()\n",
        "\n",
        "\n",
        "## Add new (fixed) columns the dumm way: check existing model named and infer functionality or features. If # of models remain finite, that is still OK.\n",
        "## If not, find a clever way to do it\n",
        "\n",
        "## FUNCTION for INFERRED fields/characteristics of the models based on their name.\n",
        "## Pure brute force and ignorance. But can serve as the code skeleton.\n",
        "\n",
        "def infer_from_name(name: str):\n",
        "    nm = str(name).lower()\n",
        "    return pd.Series({\n",
        "        \"Family\": (\"StarDist\" if \"stardist\" in nm else\n",
        "                            \"Omnipose\" if \"omni\" in nm else\n",
        "                            \"Cellpose+SAM\" if \"cpsam\" in nm else None),\n",
        "        \"Target\": (\"nuclei\" if any(k in nm for k in [\"nuclei\",\"dsb2018\",\"fluo\",\"stardist\"]) else\n",
        "                            \"bacteria\" if \"bact\" in nm else\n",
        "                            \"worm\" if \"worm\" in nm else None),\n",
        "        \"Modality\": (\"fluorescence\" if (\"fluo\" in nm or \"stardist\" in nm) else\n",
        "                              \"phase/brightfield\" if \"phase\" in nm else None),\n",
        "        \"Dims\": (\"2D\" if (\"omni\" in nm or \"cellpose\" in nm or \"cp\" in nm) else \"1D\"),\n",
        "        \"Functionality\":\"clas/den/seg\",\n",
        "        \"Trained on\": (\"StarDist 2D versatile (fluo)\" if \"versatile_fluo\" in nm else\n",
        "                                \"DSB2018 nuclei\" if \"dsb2018\" in nm else\n",
        "                                \"omnipose corpus\" if \"omni\" in nm else\n",
        "                                \"cellpose+sam generalist\" if \"cpsam\" in nm else None),\n",
        "        \"Good for\": (\"star-convex nuclei\" if \"stardist\" in nm else\n",
        "                              \"bacteria/elongated cells\" if (\"bact\" in nm or \"omni\" in nm) else\n",
        "                              \"general cell bodies\" if any(t in nm for t in [\"cp\",\"cellpose\",\"cpsam\"]) else None),\n",
        "        \" NOT good for\": (\"blah\" if \"stardist\" in nm else\n",
        "                              \"blah\" if (\"bact\" in nm or \"omni\" in nm) else\n",
        "                              \"blahblah\" if any(t in nm for t in [\"cp\",\"cellpose\",\"cpsam\"]) else None),\n",
        "        \"Channels expected\": 2 if \"omni\" in nm else 2 if (\"cellpose\" in nm  or 'cp' in nm) else 1,\n",
        "        \"Useful docs\": \"github.com/stardist/stardist#pretrained-models\" if \"stardist\" in nm else \"github.com/kevinjohncutler/omnipose\" if \"omni\" in nm else \"github.com/mouseland/cellpose\" if any(t in nm for t in [\"cp\",\"cellpose\",\"cpsam\"]) else None\n",
        "    })\n",
        "\n",
        "df_inferred = df_model_interact[\"model_name\"].apply(infer_from_name)\n",
        "df_model_interact = pd.concat([df_model_interact, df_inferred], axis=1)\n",
        "\n",
        "\n",
        "\n",
        "## return interactive table with model names and pre-selected known info or specs for each model.\n",
        "## This is a searchable table, i.e. user can filter based on existing fields.\n",
        "\n",
        "data_table.DataTable(df_model_interact, include_index=False, num_rows_per_page=10)\n"
      ]
    },
    {
      "cell_type": "code",
      "execution_count": null,
      "id": "fcBRTomxpW1v",
      "metadata": {
        "id": "fcBRTomxpW1v"
      },
      "outputs": [],
      "source": [
        "## return interactive table with model names and pre-selected known info or specs for each model.\n",
        "## This is a searchable table, i.e. user can filter based on existing fields.\n",
        "\n",
        "display(data_table.DataTable(df_model_interact, include_index=False, num_rows_per_page=10))\n",
        "\n",
        "## Add a selection UI that drives sj.select_segmentation_models()\n",
        "\n",
        "## 1) Simple and fast selector with search and multi-select\n",
        "all_names = df_model_interact[\"model_name\"].astype(str).tolist()\n",
        "\n",
        "search = widgets.Text(placeholder=\"filter models with ... (substring match)\", layout=Layout(width=\"40%\"))\n",
        "sel    = widgets.SelectMultiple(options=sorted(all_names), rows=12, description=\"Select\")\n",
        "btn_all   = widgets.Button(description=\"Select all (filtered)\")\n",
        "btn_clear  = widgets.Button(description=\"Clear\")\n",
        "btn_apply = widgets.Button(description=\"Apply selection\")\n",
        "btn_applyrun   = widgets.Button(description=\"Apply & run\", button_style=\"primary\")\n",
        "out       = widgets.Output()\n",
        "\n",
        "def refresh_options(_=None):\n",
        "    q = search.value.lower().strip()\n",
        "    opts = [n for n in all_names if q in n.lower()] if q else sorted(all_names)\n",
        "    ## preserve already-selected items that still match the filter\n",
        "    current = set(sel.value)\n",
        "    sel.options = opts\n",
        "    sel.value = tuple([o for o in opts if o in current])\n",
        "\n",
        "search.observe(refresh_options, names=\"value\")\n",
        "refresh_options()\n",
        "\n",
        "def on_all_clicked(_):\n",
        "    sel.value = tuple(sel.options)\n",
        "\n",
        "def on_none_clicked(_):\n",
        "    sel.value = ()\n",
        "\n",
        "btn_all.on_click(on_all_clicked)\n",
        "btn_clear.on_click(on_none_clicked)\n",
        "\n",
        "## 2) Apply selection to sj.model_checkboxes (expected from sj.select_segmentation_models)\n",
        "def _apply_selection(run_after=False):\n",
        "    chosen = set(sel.value)\n",
        "\n",
        "    sj.model_checkboxes = {\n",
        "        name: widgets.Checkbox(value=(name in chosen), indent=False, layout=Layout(width=\"1px\", height=\"1px\"))\n",
        "        for name in all_names\n",
        "    }\n",
        "\n",
        "    with out:\n",
        "        clear_output()\n",
        "        print(f\"Selected {len(chosen)} model(s):\")\n",
        "        for n in sorted(chosen):\n",
        "            print(\"  •\", n)\n",
        "\n",
        "    if run_now:\n",
        "        sj.select_segmentation_models()\n",
        "        sj.run_all_chosen_models()\n",
        "\n",
        "def on_apply_clicked(_):\n",
        "    _apply_selection(run_now=False)\n",
        "\n",
        "def on_applyrun_clicked(_):\n",
        "    _apply_selection(run_now=True)\n",
        "\n",
        "btn_apply.on_click(on_apply_clicked)\n",
        "btn_applyrun.on_click(on_applyrun_clicked)\n",
        "\n",
        "## 3) Final: render the selector UI\n",
        "widgets.VBox([\n",
        "    widgets.HBox([search, btn_all, btn_clear, btn_apply, btn_applyrun]),\n",
        "    sel,\n",
        "    out\n",
        "])\n"
      ]
    },
    {
      "cell_type": "markdown",
      "source": [
        "**the rest follows as in the original colab , e.g. model comparison, selection of best model, and subsequent outputs.**"
      ],
      "metadata": {
        "id": "W9_ndT1z80_M"
      },
      "id": "W9_ndT1z80_M"
    },
    {
      "cell_type": "code",
      "execution_count": null,
      "id": "gNC0Ns_2gs8I",
      "metadata": {
        "id": "gNC0Ns_2gs8I"
      },
      "outputs": [],
      "source": [
        "sj.compare_segmentations()\n",
        "sj.output_seg_comp"
      ]
    },
    {
      "cell_type": "code",
      "execution_count": null,
      "id": "k9svX_ZChFTu",
      "metadata": {
        "id": "k9svX_ZChFTu"
      },
      "outputs": [],
      "source": [
        "sj.display_buttons_weights()\n",
        "display(sj.out_weights)"
      ]
    },
    {
      "cell_type": "code",
      "execution_count": null,
      "id": "dDlS50vmhNRy",
      "metadata": {
        "id": "dDlS50vmhNRy"
      },
      "outputs": [],
      "source": [
        "sj.load_add_files()\n",
        "sj.out_add_file"
      ]
    },
    {
      "cell_type": "code",
      "execution_count": null,
      "id": "A1HJf5odhOF2",
      "metadata": {
        "id": "A1HJf5odhOF2"
      },
      "outputs": [],
      "source": [
        "sj.process_images()"
      ]
    },
    {
      "cell_type": "markdown",
      "id": "J-U6bQ3C7F2-",
      "metadata": {
        "id": "J-U6bQ3C7F2-"
      },
      "source": [
        "### **General comments**\n",
        "\n",
        "+ Add 'functionality' field (segmentation, classification,denoising)\n",
        "\n",
        "+ Get inspiration for fields, terms, tags, etc from biii.eu\n",
        "\n",
        "\n",
        "### **code comments**\n",
        "+ There might be no need for both buttons \"Apply to sj\" and \"Apply and Run\". Re-think it: is there any forseen user action that after selecting the desired models, does not proceed with running these models on the images determined earlier?\n",
        "\n",
        "+ **Color scheme** for ROI etc not the best. How about **grayscale** instead??\n",
        "\n",
        "+ DataTable does not render hyperlinks (just keeps the address string). Can use HTML instead, but then the table doesn't have the nice filter functionalities of a DataTable\n",
        "\n",
        "+ **Useful Docs column**: can add relevant papers too or other useful links. Or decide to keep it simple with just the github links"
      ]
    },
    {
      "cell_type": "markdown",
      "source": [
        "### **Resources**\n",
        "\n",
        "- *Omnipose*\n",
        "\n",
        "https://github.com/kevinjohncutler/omnipose\n",
        "\n",
        "https://omnipose.readthedocs.io/index.html\n",
        "\n",
        "- *Cellpose*\n",
        "\n",
        "https://github.com/mouseland/cellpose\n",
        "\n",
        "https://cellpose.readthedocs.io/en/latest/index.html\n",
        "\n",
        "\n",
        "- *Stardist*\n",
        "\n",
        "https://github.com/stardist/stardist#pretrained-models"
      ],
      "metadata": {
        "id": "VXGA0fa90bQe"
      },
      "id": "VXGA0fa90bQe"
    },
    {
      "cell_type": "markdown",
      "source": [
        "## II. Alternative solutions experimentation"
      ],
      "metadata": {
        "id": "fHLDAiAiskk2"
      },
      "id": "fHLDAiAiskk2"
    },
    {
      "cell_type": "markdown",
      "source": [
        "A combination of html rendered dataframe with checkboxes and inplace selection\n",
        "NOTE: here hyperlinks are supported --> use them for documentation links\n",
        "NOTE: fix 'clear selection' button\n"
      ],
      "metadata": {
        "id": "7LJGHOaTzi6c"
      },
      "id": "7LJGHOaTzi6c"
    },
    {
      "cell_type": "code",
      "source": [
        "from IPython.display import HTML, display, clear_output\n",
        "from google.colab import output\n",
        "import ipywidgets as widgets\n",
        "from ipywidgets import Layout\n",
        "import html as _html\n",
        "\n",
        "# 1) Build the HTML DataFrame with a checkbox column\n",
        "df_html = df_model_interact.copy()\n",
        "df_html.insert(0, \"Select\", [\n",
        "    f'<input type=\"checkbox\" class=\"model-box\" value=\"{_html.escape(str(name))}\">'\n",
        "    for name in df_html[\"model_name\"].astype(str)\n",
        "])\n",
        "\n",
        "display(HTML(df_html.to_html(escape=False, index=False)))\n",
        "\n",
        "# 2) Buttons for Apply / Apply & Run / Clear Selection\n",
        "\n",
        "btn_clear  = widgets.Button(description=\"Clear Selection\")\n",
        "btn_apply = widgets.Button(description=\"Apply selection\")\n",
        "btn_applyrun   = widgets.Button(description=\"Apply & run\", button_style=\"primary\")\n",
        "out       = widgets.Output()\n",
        "\n",
        "\n",
        "def _get_selected_names():\n",
        "    js = \"\"\"\n",
        "      (function(){\n",
        "        const boxes = Array.from(document.querySelectorAll('.model-box'));\n",
        "        return boxes.filter(b => b.checked).map(b => b.value);\n",
        "      })()\n",
        "    \"\"\"\n",
        "    return output.eval_js(js) or []\n",
        "\n",
        "def _apply_selection(run_now=False):\n",
        "    selected = _get_selected_names()\n",
        "\n",
        "    # Create the structure sj.select_segmentation_models expects\n",
        "    sj.model_checkboxes = {\n",
        "        str(name): widgets.Checkbox(\n",
        "            value=(str(name) in selected),\n",
        "            indent=False,\n",
        "            layout=Layout(width=\"1px\", height=\"1px\")\n",
        "        )\n",
        "        for name in df_model_interact[\"model_name\"].astype(str).tolist()\n",
        "    }\n",
        "\n",
        "    with out:\n",
        "        clear_output()\n",
        "        print(f\"Selected {len(selected)} model(s):\")\n",
        "        for n in selected:\n",
        "            print(\"  •\", n)\n",
        "\n",
        "    if run_now:\n",
        "        sj.select_segmentation_models()\n",
        "        sj.run_all_chosen_models()\n",
        "\n",
        "\n",
        "def on_apply_clicked(_):\n",
        "    _apply_selection(run_now=False)\n",
        "\n",
        "def on_applyrun_clicked(_):\n",
        "    _apply_selection(run_now=True)\n",
        "\n",
        "btn_apply.on_click(on_apply_clicked)\n",
        "btn_applyrun.on_click(on_applyrun_clicked)\n",
        "\n",
        "display(widgets.HBox([btn_clear, btn_apply, btn_applyrun]), out)\n",
        "\n"
      ],
      "metadata": {
        "id": "qKg4Phk6rBRZ"
      },
      "id": "qKg4Phk6rBRZ",
      "execution_count": null,
      "outputs": []
    },
    {
      "cell_type": "code",
      "source": [],
      "metadata": {
        "id": "PWZzelCNsOG9"
      },
      "id": "PWZzelCNsOG9",
      "execution_count": null,
      "outputs": []
    }
  ],
  "metadata": {
    "colab": {
      "provenance": [],
      "toc_visible": true,
      "include_colab_link": true
    },
    "kernelspec": {
      "display_name": "Python 3",
      "name": "python3"
    },
    "language_info": {
      "codemirror_mode": {
        "name": "ipython",
        "version": 3
      },
      "file_extension": ".py",
      "mimetype": "text/x-python",
      "name": "python",
      "nbconvert_exporter": "python",
      "pygments_lexer": "ipython3",
      "version": "3.11.7"
    },
    "nav_menu": {},
    "toc": {
      "base_numbering": 1,
      "nav_menu": {},
      "number_sections": true,
      "sideBar": true,
      "skip_h1_title": false,
      "title_cell": "Table of Contents",
      "title_sidebar": "Contents",
      "toc_cell": false,
      "toc_position": {},
      "toc_section_display": "block",
      "toc_window_display": false
    }
  },
  "nbformat": 4,
  "nbformat_minor": 5
}